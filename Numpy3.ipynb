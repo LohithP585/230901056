{
 "cells": [
  {
   "cell_type": "code",
   "execution_count": 2,
   "id": "8c01b805",
   "metadata": {},
   "outputs": [
    {
     "name": "stdout",
     "output_type": "stream",
     "text": [
      "(array([4]),)\n"
     ]
    }
   ],
   "source": [
    "import numpy as np\n",
    "a=np.array([1,3,5,8,6,9,2])\n",
    "x=np.where(a==6)\n",
    "print(x)"
   ]
  },
  {
   "cell_type": "code",
   "execution_count": 3,
   "id": "4ea59ace",
   "metadata": {},
   "outputs": [
    {
     "name": "stdout",
     "output_type": "stream",
     "text": [
      "(array([3]),)\n"
     ]
    }
   ],
   "source": [
    "import numpy as np\n",
    "a=np.array([1,3,5,8,6,9,2])\n",
    "x=np.where(a==8)\n",
    "print(x)"
   ]
  },
  {
   "cell_type": "code",
   "execution_count": 8,
   "id": "ce2bf410",
   "metadata": {},
   "outputs": [
    {
     "name": "stdout",
     "output_type": "stream",
     "text": [
      "(array([1, 2, 4, 5]),)\n"
     ]
    }
   ],
   "source": [
    "import numpy as np\n",
    "a=np.array([1,6,2,7,6,4])\n",
    "x=np.where(a%2==0)\n",
    "print(x)"
   ]
  },
  {
   "cell_type": "code",
   "execution_count": 9,
   "id": "1d205efb",
   "metadata": {},
   "outputs": [
    {
     "name": "stdout",
     "output_type": "stream",
     "text": [
      "(array([0, 3, 5]),)\n"
     ]
    }
   ],
   "source": [
    "import numpy as np\n",
    "a=np.array([1,6,2,7,6,4])\n",
    "x=np.where(a%3==1)\n",
    "print(x)"
   ]
  },
  {
   "cell_type": "code",
   "execution_count": 12,
   "id": "814f5846",
   "metadata": {},
   "outputs": [
    {
     "name": "stdout",
     "output_type": "stream",
     "text": [
      "7\n"
     ]
    }
   ],
   "source": [
    "import numpy as np\n",
    "a=np.array([1,2,3,4,5,6,7,8,9])\n",
    "x=np.searchsorted(a,8,side='left')\n",
    "print(x)"
   ]
  },
  {
   "cell_type": "code",
   "execution_count": 13,
   "id": "6eab1a50",
   "metadata": {},
   "outputs": [
    {
     "name": "stdout",
     "output_type": "stream",
     "text": [
      "8\n"
     ]
    }
   ],
   "source": [
    "import numpy as np\n",
    "a=np.array([1,2,3,4,5,6,7,8,9])\n",
    "x=np.searchsorted(a,8,side='right')\n",
    "print(x)"
   ]
  },
  {
   "cell_type": "code",
   "execution_count": 15,
   "id": "332cf2ab",
   "metadata": {},
   "outputs": [
    {
     "name": "stdout",
     "output_type": "stream",
     "text": [
      "[2 4 5 6 7 9]\n"
     ]
    }
   ],
   "source": [
    "import numpy as np \n",
    "a= np.array([9,5,2,7,6,4])\n",
    "print(np.sort(a))"
   ]
  },
  {
   "cell_type": "code",
   "execution_count": 16,
   "id": "c95041e7",
   "metadata": {},
   "outputs": [
    {
     "name": "stdout",
     "output_type": "stream",
     "text": [
      "[[4 7 9]\n",
      " [1 4 9]]\n"
     ]
    }
   ],
   "source": [
    "import numpy as np \n",
    "a= np.array([[7,4,9],[9,1,4]])\n",
    "print(np.sort(a))"
   ]
  },
  {
   "cell_type": "code",
   "execution_count": 17,
   "id": "4cfd6e56",
   "metadata": {},
   "outputs": [
    {
     "name": "stdout",
     "output_type": "stream",
     "text": [
      "[False, True, False, True]\n",
      "[ 78 100]\n"
     ]
    }
   ],
   "source": [
    "import numpy as np \n",
    "a=np.array([31,78,69,100])\n",
    "x=[False,True,False,True]\n",
    "na=a[x]\n",
    "print(x)\n",
    "print(na)\n",
    "\n",
    "                                                                            "
   ]
  },
  {
   "cell_type": "code",
   "execution_count": 21,
   "id": "95110f6c",
   "metadata": {},
   "outputs": [
    {
     "name": "stdout",
     "output_type": "stream",
     "text": [
      "[ 78 100]\n"
     ]
    }
   ],
   "source": [
    "import numpy as np\n",
    "a=np.array([31,78,69,100])\n",
    "filter_a=a>70\n",
    "nw=a[filter_a]\n",
    "print(nw)\n"
   ]
  },
  {
   "cell_type": "code",
   "execution_count": null,
   "id": "e740e35a",
   "metadata": {},
   "outputs": [],
   "source": []
  }
 ],
 "metadata": {
  "kernelspec": {
   "display_name": "Python 3 (ipykernel)",
   "language": "python",
   "name": "python3"
  },
  "language_info": {
   "codemirror_mode": {
    "name": "ipython",
    "version": 3
   },
   "file_extension": ".py",
   "mimetype": "text/x-python",
   "name": "python",
   "nbconvert_exporter": "python",
   "pygments_lexer": "ipython3",
   "version": "3.11.4"
  }
 },
 "nbformat": 4,
 "nbformat_minor": 5
}
