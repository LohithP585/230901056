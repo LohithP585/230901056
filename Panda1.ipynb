{
 "cells": [
  {
   "cell_type": "code",
   "execution_count": 12,
   "id": "c3ab09f0",
   "metadata": {},
   "outputs": [
    {
     "name": "stdout",
     "output_type": "stream",
     "text": [
      "Empty DataFrame\n",
      "Columns: []\n",
      "Index: []\n"
     ]
    }
   ],
   "source": [
    "import pandas as pd\n",
    "df=pd.DataFrame()\n",
    "print(df)"
   ]
  },
  {
   "cell_type": "code",
   "execution_count": 19,
   "id": "71239590",
   "metadata": {},
   "outputs": [
    {
     "name": "stdout",
     "output_type": "stream",
     "text": [
      "\n",
      "series to dataframe\n",
      "\n",
      "         Emp  ID\n",
      "0        uma  10\n",
      "1  maithresh  20\n",
      "2     sindhu  30\n",
      "3       ravi  40\n"
     ]
    }
   ],
   "source": [
    "import pandas as pd\n",
    "Emp=pd.Series(['uma','siva','sindhu','ravi'])\n",
    "id=pd.Series([10,20,30,40])\n",
    "frame={'Emp':emp,'ID':id}\n",
    "result=pd.DataFrame(frame)\n",
    "print(\"\\nseries to dataframe\\n\")\n",
    "print(result)"
   ]
  },
  {
   "cell_type": "code",
   "execution_count": 21,
   "id": "e06d1544",
   "metadata": {},
   "outputs": [
    {
     "name": "stdout",
     "output_type": "stream",
     "text": [
      "\n",
      "series to dataframe\n",
      "\n",
      "         Emp  ID\n",
      "0        uma  10\n",
      "1  maithresh  20\n",
      "2     sindhu  30\n",
      "3       ravi  40\n"
     ]
    }
   ],
   "source": [
    "import pandas as pd\n",
    "Emp=pd.Series(['uma','siva','sindhu','ravi'])\n",
    "id=pd.Series([10,20,30,40])\n",
    "frame={'Emp':emp,'ID':id}\n",
    "result=pd.DataFrame(frame)\n",
    "print(\"\\nseries to dataframe\\n\")\n",
    "print(result)"
   ]
  },
  {
   "cell_type": "code",
   "execution_count": 22,
   "id": "eef73e0d",
   "metadata": {},
   "outputs": [
    {
     "name": "stdout",
     "output_type": "stream",
     "text": [
      "\n",
      "Extracting one coloumn\n",
      "\n",
      "0          uma\n",
      "1    maithresh\n",
      "2       sindhu\n",
      "3         ravi\n",
      "Name: Emp, dtype: object\n"
     ]
    }
   ],
   "source": [
    "print(\"\\nExtracting one coloumn\\n\")\n",
    "print(result['Emp'])"
   ]
  },
  {
   "cell_type": "code",
   "execution_count": 24,
   "id": "9dfe0697",
   "metadata": {},
   "outputs": [
    {
     "name": "stdout",
     "output_type": "stream",
     "text": [
      "         Emp  ID  Age\n",
      "0        uma  10   20\n",
      "1  maithresh  20   25\n",
      "2     sindhu  30   30\n",
      "3       ravi  40   50\n"
     ]
    }
   ],
   "source": [
    "#adding new coloumn\n",
    "result['Age']=pd.Series([20,25,30,50])\n",
    "print(result)"
   ]
  },
  {
   "cell_type": "code",
   "execution_count": 25,
   "id": "3c6065b3",
   "metadata": {},
   "outputs": [
    {
     "name": "stdout",
     "output_type": "stream",
     "text": [
      "         Emp  ID\n",
      "0        uma  10\n",
      "1  maithresh  20\n",
      "2     sindhu  30\n",
      "3       ravi  40\n"
     ]
    }
   ],
   "source": [
    "#delete an existing coloumn\n",
    "del result['Age']\n",
    "print(result)"
   ]
  },
  {
   "cell_type": "code",
   "execution_count": 29,
   "id": "076f2127",
   "metadata": {},
   "outputs": [
    {
     "name": "stdout",
     "output_type": "stream",
     "text": [
      "\n",
      " Extracting 2nd row\n",
      "Emp    maithresh\n",
      "ID            20\n",
      "Name: 1, dtype: object\n"
     ]
    }
   ],
   "source": [
    "#extracting 2nd row\n",
    "print(\"\\n Extracting 2nd row\")\n",
    "print(result.loc[1])"
   ]
  },
  {
   "cell_type": "code",
   "execution_count": 30,
   "id": "3c669a86",
   "metadata": {},
   "outputs": [
    {
     "name": "stdout",
     "output_type": "stream",
     "text": [
      "slicing rows:\n",
      "          Emp  ID\n",
      "1  maithresh  20\n",
      "2     sindhu  30\n"
     ]
    }
   ],
   "source": [
    "#slicing\n",
    "print(\"slicing rows:\\n\",result[1:3])"
   ]
  },
  {
   "cell_type": "code",
   "execution_count": 40,
   "id": "278f1d24",
   "metadata": {},
   "outputs": [
    {
     "name": "stdout",
     "output_type": "stream",
     "text": [
      "\n",
      " Adding new row values:\n",
      "          Emp  ID\n",
      "0        uma  10\n",
      "1  maithresh  20\n",
      "2     sindhu  30\n",
      "3       ravi  40\n",
      "0        Anu  20\n",
      "1       Jinu  19\n"
     ]
    }
   ],
   "source": [
    "#concadinating\n",
    "d2=pd.DataFrame([['Anu',20],['Jinu',19]],columns=['Emp','ID'])\n",
    "print(\"\\n Adding new row values:\\n\",pd.concat([result,d2]))"
   ]
  },
  {
   "cell_type": "code",
   "execution_count": null,
   "id": "73dbe8d9",
   "metadata": {},
   "outputs": [],
   "source": []
  }
 ],
 "metadata": {
  "kernelspec": {
   "display_name": "Python 3 (ipykernel)",
   "language": "python",
   "name": "python3"
  },
  "language_info": {
   "codemirror_mode": {
    "name": "ipython",
    "version": 3
   },
   "file_extension": ".py",
   "mimetype": "text/x-python",
   "name": "python",
   "nbconvert_exporter": "python",
   "pygments_lexer": "ipython3",
   "version": "3.11.4"
  }
 },
 "nbformat": 4,
 "nbformat_minor": 5
}
