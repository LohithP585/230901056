{
 "cells": [
  {
   "cell_type": "code",
   "execution_count": 2,
   "id": "45af22ae-f4b4-4785-b919-d1f6e8df9bb4",
   "metadata": {},
   "outputs": [
    {
     "name": "stdout",
     "output_type": "stream",
     "text": [
      "Original data:\n",
      "\n",
      "    Unnamed: 0  Sno       Name  English  Tamil  Maths  Science  social  Total\n",
      "0            0    1        Abu       90     78     97       66      87    418\n",
      "1            1    2        adu       89     78     87       76      90    420\n",
      "2            2    3       badu       76     26     75       38      76    291\n",
      "3            3    4        udu       89     78     88       36      98    389\n",
      "4            4    5       dadu       58     56     57       37      91    299\n",
      "5            5    6       raju       78     89     74       37      92    370\n",
      "6           10   11       lijo       77     85     94       78      81    415\n",
      "7           11   12       rika       90     91     55       65      86    387\n",
      "8           12   13      touka       91     73     81       87      87    419\n",
      "9           13   14     sasuke       73     65     89       77      90    394\n",
      "10          14   15     naruto       89     62     67       74      89    381\n",
      "11          15   16    kakashi       78     77     55       88      65    363\n",
      "12          16   17   zabimaru       58     73     56       99      62    348\n",
      "13          17   18     itachi       88     78     57       33      53    309\n",
      "14          18   19       tobi       99     88     85       36      63    371\n",
      "15          19   20  maithresh       47     38     58       84      77    304\n"
     ]
    }
   ],
   "source": [
    "import pandas as pd\n",
    "pd.set_option('display.max_columns',10)\n",
    "print(\"Original data:\\n\")\n",
    "df=pd.read_excel(\"Marks.xlsx\")\n",
    "print(df)"
   ]
  },
  {
   "cell_type": "code",
   "execution_count": 4,
   "id": "76b6ca4f-e70a-4c0c-94a1-0f770b47d7bb",
   "metadata": {},
   "outputs": [
    {
     "name": "stdout",
     "output_type": "stream",
     "text": [
      "0           Abu\n",
      "1           adu\n",
      "2          badu\n",
      "3           udu\n",
      "4          dadu\n",
      "5          raju\n",
      "6          lijo\n",
      "7          rika\n",
      "8         touka\n",
      "9        sasuke\n",
      "10       naruto\n",
      "11      kakashi\n",
      "12     zabimaru\n",
      "13       itachi\n",
      "14         tobi\n",
      "15    maithresh\n",
      "Name: Name, dtype: object\n"
     ]
    }
   ],
   "source": [
    "f=df['Name'].str.strip()\n",
    "f.to_excel(\"Marks 2.xlsx\")\n",
    "print(f)"
   ]
  },
  {
   "cell_type": "code",
   "execution_count": 6,
   "id": "3aec5b87-38fd-4f54-be19-7ff5f4417c32",
   "metadata": {},
   "outputs": [
    {
     "name": "stdout",
     "output_type": "stream",
     "text": [
      "\n",
      "ReplaceValue:\n",
      "    Unnamed: 0  Sno       Name  English  Tamil  Maths  Science  social  Total\n",
      "0            0    1        Abu       90     78     97       66      87    418\n",
      "1            1    2        adu       89     78     87       76      90    420\n",
      "2            2    3       badu       76     26     75       38      76    291\n",
      "3            3    4        udu       89     78     88       36      98    389\n",
      "4            4    5       dadu       58     56     57       37      91    299\n",
      "5            5    6       raju       78     89     74       37      92    370\n",
      "6           10   11       lijo       77     85     94       78      81    415\n",
      "7           11   12       rika       90     91     55       65      86    387\n",
      "8           12   13      touka       91     73     81       87      87    419\n",
      "9           13   14     sasuke       73     65     89       77      90    394\n",
      "10          14   15     naruto       89     62     67       74      89    381\n",
      "11          15   16    kakashi       78     77     55       88      65    363\n",
      "12          16   17   zabimaru       58     73     56       99      62    348\n",
      "13          17   18     itachi       88     78     57       33      53    309\n",
      "14          18   19       tobi       99     88     85       36      63    371\n",
      "15          19   20  maithresh       47     38     58       84      77    304\n",
      "\n",
      " updated list\n",
      "\n"
     ]
    },
    {
     "name": "stderr",
     "output_type": "stream",
     "text": [
      "/var/folders/nl/brxzfx2n54v8ksfjs_dvrn0h0000gp/T/ipykernel_2835/716342018.py:2: FutureWarning: DataFrame.fillna with 'method' is deprecated and will raise in a future version. Use obj.ffill() or obj.bfill() instead.\n",
      "  k=df.fillna(method='pad')\n"
     ]
    }
   ],
   "source": [
    "print(\"\\nReplaceValue:\")\n",
    "k=df.fillna(method='pad')\n",
    "print(k)\n",
    "print(\"\\n updated list\\n\")\n",
    "k.to_excel(\"Marks 2.xlsx\")"
   ]
  },
  {
   "cell_type": "code",
   "execution_count": 8,
   "id": "22c737d8-e6e4-4b9f-b703-7e7a8a680217",
   "metadata": {},
   "outputs": [
    {
     "name": "stdout",
     "output_type": "stream",
     "text": [
      "\n",
      " Drop One particular Column and its VAlue:\n",
      "\n",
      "    Unnamed: 0  Sno       Name  English  Tamil  Maths  Science  Total\n",
      "0            0    1        Abu       90     78     97       66    418\n",
      "1            1    2        adu       89     78     87       76    420\n",
      "2            2    3       badu       76     26     75       38    291\n",
      "3            3    4        udu       89     78     88       36    389\n",
      "4            4    5       dadu       58     56     57       37    299\n",
      "5            5    6       raju       78     89     74       37    370\n",
      "6           10   11       lijo       77     85     94       78    415\n",
      "7           11   12       rika       90     91     55       65    387\n",
      "8           12   13      touka       91     73     81       87    419\n",
      "9           13   14     sasuke       73     65     89       77    394\n",
      "10          14   15     naruto       89     62     67       74    381\n",
      "11          15   16    kakashi       78     77     55       88    363\n",
      "12          16   17   zabimaru       58     73     56       99    348\n",
      "13          17   18     itachi       88     78     57       33    309\n",
      "14          18   19       tobi       99     88     85       36    371\n",
      "15          19   20  maithresh       47     38     58       84    304\n",
      "\n",
      " Updated list\n",
      "\n"
     ]
    }
   ],
   "source": [
    "print(\"\\n Drop One particular Column and its VAlue:\\n\")\n",
    "k.drop(['social'],axis=1,inplace=True)\n",
    "print(k)\n",
    "print(\"\\n Updated list\\n\")\n",
    "k.to_excel(\"Marks 2.xlsx\")"
   ]
  },
  {
   "cell_type": "code",
   "execution_count": 10,
   "id": "ed3c55db-20a4-4f64-93ce-5ea3f2a42018",
   "metadata": {},
   "outputs": [
    {
     "name": "stdout",
     "output_type": "stream",
     "text": [
      "\n",
      " Drop NaNrows:\n",
      "\n",
      "    Unnamed: 0  Sno       Name  English  Tamil  Maths  Science  social  Total\n",
      "0            0    1        Abu       90     78     97       66      87    418\n",
      "1            1    2        adu       89     78     87       76      90    420\n",
      "2            2    3       badu       76     26     75       38      76    291\n",
      "3            3    4        udu       89     78     88       36      98    389\n",
      "4            4    5       dadu       58     56     57       37      91    299\n",
      "5            5    6       raju       78     89     74       37      92    370\n",
      "6           10   11       lijo       77     85     94       78      81    415\n",
      "7           11   12       rika       90     91     55       65      86    387\n",
      "8           12   13      touka       91     73     81       87      87    419\n",
      "9           13   14     sasuke       73     65     89       77      90    394\n",
      "10          14   15     naruto       89     62     67       74      89    381\n",
      "11          15   16    kakashi       78     77     55       88      65    363\n",
      "12          16   17   zabimaru       58     73     56       99      62    348\n",
      "13          17   18     itachi       88     78     57       33      53    309\n",
      "14          18   19       tobi       99     88     85       36      63    371\n",
      "15          19   20  maithresh       47     38     58       84      77    304\n",
      "    Unnamed: 0  Sno       Name  English  Tamil  Maths  Science  social  Total\n",
      "0            0    1        Abu       90     78     97       66      87    418\n",
      "1            1    2        adu       89     78     87       76      90    420\n",
      "2            2    3       badu       76     26     75       38      76    291\n",
      "3            3    4        udu       89     78     88       36      98    389\n",
      "4            4    5       dadu       58     56     57       37      91    299\n",
      "5            5    6       raju       78     89     74       37      92    370\n",
      "6           10   11       lijo       77     85     94       78      81    415\n",
      "7           11   12       rika       90     91     55       65      86    387\n",
      "8           12   13      touka       91     73     81       87      87    419\n",
      "9           13   14     sasuke       73     65     89       77      90    394\n",
      "10          14   15     naruto       89     62     67       74      89    381\n",
      "11          15   16    kakashi       78     77     55       88      65    363\n",
      "12          16   17   zabimaru       58     73     56       99      62    348\n",
      "13          17   18     itachi       88     78     57       33      53    309\n",
      "14          18   19       tobi       99     88     85       36      63    371\n",
      "15          19   20  maithresh       47     38     58       84      77    304\n",
      "\n",
      " Updated list:\n",
      "\n"
     ]
    }
   ],
   "source": [
    "print(\"\\n Drop NaNrows:\\n\")\n",
    "df=pd.read_excel(\"Marks.xlsx\")\n",
    "print(df)\n",
    "x=df.dropna()\n",
    "print(x)\n",
    "print(\"\\n Updated list:\\n\")\n",
    "x.to_excel(\"Marks.xlsx\")"
   ]
  },
  {
   "cell_type": "code",
   "execution_count": 22,
   "id": "86628099-2f5c-419a-a056-2e90167b9481",
   "metadata": {},
   "outputs": [
    {
     "name": "stdout",
     "output_type": "stream",
     "text": [
      "\n",
      " Replace Values:\n",
      "\n",
      "\n",
      " Original data:\n",
      "\n",
      "    Unnamed: 0.1  Unnamed: 0  Sno       Name  English  Tamil  Maths  Science  \\\n",
      "0              0           0    1        Abu       90     78     97       66   \n",
      "1              1           1    2        adu       89     78     87       76   \n",
      "2              2           2    3       badu       76     26     75       38   \n",
      "3              3           3    4        udu       89     78     88       36   \n",
      "4              4           4    5       dadu       58     56     57       37   \n",
      "5              5           5    6       raju       78     89     74       37   \n",
      "6              6          10   11       lijo       77     85     94       78   \n",
      "7              7          11   12       rika       90     91     55       65   \n",
      "8              8          12   13      touka       91     73     81       87   \n",
      "9              9          13   14     sasuke       73     65     89       77   \n",
      "10            10          14   15     naruto       89     62     67       74   \n",
      "11            11          15   16    kakashi       78     77     55       88   \n",
      "12            12          16   17   zabimaru       58     73     56       99   \n",
      "13            13          17   18     itachi       88     78     57       33   \n",
      "14            14          18   19       tobi       99     88     85       36   \n",
      "15            15          19   20  maithresh       47     38     58       84   \n",
      "\n",
      "    social  Total  \n",
      "0       87    418  \n",
      "1       90    420  \n",
      "2       76    291  \n",
      "3       98    389  \n",
      "4       91    299  \n",
      "5       92    370  \n",
      "6       81    415  \n",
      "7       86    387  \n",
      "8       87    419  \n",
      "9       90    394  \n",
      "10      89    381  \n",
      "11      65    363  \n",
      "12      62    348  \n",
      "13      53    309  \n",
      "14      63    371  \n",
      "15      77    304  \n",
      "\n",
      " Replaced Datasheet\n",
      "\n",
      "    Unnamed: 0.1  Unnamed: 0  Sno       Name  English  Tamil  Maths  Science  \\\n",
      "0              0           0    1        Abu       90     78     97       66   \n",
      "1              1           1    2        adu       88     78     87       76   \n",
      "2              2           2    3       badu       76     26     75       38   \n",
      "3              3           3    4        udu       88     78     88       36   \n",
      "4              4           4    5       dadu       58     56     57       37   \n",
      "5              5           5    6       raju       78     88     74       37   \n",
      "6              6          10   11       lijo       77     85     94       78   \n",
      "7              7          11   12       rika       90     91     55       65   \n",
      "8              8          12   13      touka       91     73     81       87   \n",
      "9              9          13   14     sasuke       73     65     88       77   \n",
      "10            10          14   15     naruto       88     62     67       74   \n",
      "11            11          15   16    kakashi       78     77     55       88   \n",
      "12            12          16   17   zabimaru       58     73     56       99   \n",
      "13            13          17   18     itachi       88     78     57       33   \n",
      "14            14          18   19       tobi       99     88     85       36   \n",
      "15            15          19   20  maithresh       47     38     58       84   \n",
      "\n",
      "    social  Total  \n",
      "0       87    418  \n",
      "1       90    420  \n",
      "2       76    291  \n",
      "3       98    389  \n",
      "4       91    299  \n",
      "5       92    370  \n",
      "6       81    415  \n",
      "7       86    387  \n",
      "8       87    419  \n",
      "9       90    394  \n",
      "10      88    381  \n",
      "11      65    363  \n",
      "12      62    348  \n",
      "13      53    309  \n",
      "14      63    371  \n",
      "15      77    304  \n",
      "\n",
      " Updated Datasheet:\n",
      "\n"
     ]
    }
   ],
   "source": [
    "print(\"\\n Replace Values:\\n\")\n",
    "n=pd.read_excel(\"Marks.xlsx\")\n",
    "print(\"\\n Original data:\\n\")\n",
    "print(n)\n",
    "y=n.replace({89:88})\n",
    "print(\"\\n Replaced Datasheet\\n\")\n",
    "print(y)\n",
    "print(\"\\n Updated Datasheet:\\n\")\n",
    "y.to_excel(\"Marks 2.xlsx\")"
   ]
  },
  {
   "cell_type": "code",
   "execution_count": 30,
   "id": "1700ecba-c172-4a40-83b8-6d2e630a7c95",
   "metadata": {},
   "outputs": [
    {
     "name": "stdout",
     "output_type": "stream",
     "text": [
      "    Unnamed: 0.2  Unnamed: 0.1  Unnamed: 0  Sno       Name  ...  Tamil  Maths  \\\n",
      "0              0             0           0    1        Abu  ...     78     97   \n",
      "1              1             1           1    2        adu  ...     78     87   \n",
      "2              2             2           2    3       badu  ...     26     75   \n",
      "3              3             3           3    4        udu  ...     78     88   \n",
      "4              4             4           4    5       dadu  ...     56     57   \n",
      "5              5             5           5    6       raju  ...     88     74   \n",
      "6              6             6          10   11       lijo  ...     85     94   \n",
      "7              7             7          11   12       rika  ...     91     55   \n",
      "8              8             8          12   13      touka  ...     73     81   \n",
      "9              9             9          13   14     sasuke  ...     65     88   \n",
      "10            10            10          14   15     naruto  ...     62     67   \n",
      "11            11            11          15   16    kakashi  ...     77     55   \n",
      "12            12            12          16   17   zabimaru  ...     73     56   \n",
      "13            13            13          17   18     itachi  ...     78     57   \n",
      "14            14            14          18   19       tobi  ...     88     85   \n",
      "15            15            15          19   20  maithresh  ...     38     58   \n",
      "\n",
      "    Science  social  Total  \n",
      "0        66      87    418  \n",
      "1        76      90    420  \n",
      "2        38      76    291  \n",
      "3        36      98    389  \n",
      "4        37      91    299  \n",
      "5        37      92    370  \n",
      "6        78      81    415  \n",
      "7        65      86    387  \n",
      "8        87      87    419  \n",
      "9        77      90    394  \n",
      "10       74      88    381  \n",
      "11       88      65    363  \n",
      "12       99      62    348  \n",
      "13       33      53    309  \n",
      "14       36      63    371  \n",
      "15       84      77    304  \n",
      "\n",
      "[16 rows x 11 columns]\n",
      "\n",
      " Extracting isin()function:\n",
      "\n",
      "   Unnamed: 0.2  Unnamed: 0.1  Unnamed: 0  Sno  Name  ...  Tamil  Maths  \\\n",
      "4             4             4           4    5  dadu  ...     56     57   \n",
      "5             5             5           5    6  raju  ...     88     74   \n",
      "\n",
      "   Science  social  Total  \n",
      "4       37      91    299  \n",
      "5       37      92    370  \n",
      "\n",
      "[2 rows x 11 columns]\n"
     ]
    }
   ],
   "source": [
    "df=pd.read_excel(\"Marks 2.xlsx\")\n",
    "print(df)\n",
    "print(\"\\n Extracting isin()function:\\n\")\n",
    "new=df['Science'].isin([37])\n",
    "print(df[new])"
   ]
  },
  {
   "cell_type": "code",
   "execution_count": null,
   "id": "b90f8f79-00e8-48a1-b0b2-0033ca6ab273",
   "metadata": {},
   "outputs": [],
   "source": []
  }
 ],
 "metadata": {
  "kernelspec": {
   "display_name": "Python 3 (ipykernel)",
   "language": "python",
   "name": "python3"
  },
  "language_info": {
   "codemirror_mode": {
    "name": "ipython",
    "version": 3
   },
   "file_extension": ".py",
   "mimetype": "text/x-python",
   "name": "python",
   "nbconvert_exporter": "python",
   "pygments_lexer": "ipython3",
   "version": "3.12.7"
  }
 },
 "nbformat": 4,
 "nbformat_minor": 5
}
