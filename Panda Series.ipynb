{
 "cells": [
  {
   "cell_type": "code",
   "execution_count": 3,
   "id": "23d2ca25-20fa-47df-99c9-0d25f3bcca31",
   "metadata": {},
   "outputs": [
    {
     "name": "stdout",
     "output_type": "stream",
     "text": [
      "['l' 'o' 'h' 'i' 't' 'h']\n",
      "0    l\n",
      "1    o\n",
      "2    h\n",
      "3    i\n",
      "4    t\n",
      "5    h\n",
      "dtype: object\n"
     ]
    }
   ],
   "source": [
    "import pandas as pd\n",
    "import numpy as np\n",
    "a=np.array(['l','o','h','i','t','h'])\n",
    "b=pd.Series(a)\n",
    "print(a)\n",
    "print(b)"
   ]
  },
  {
   "cell_type": "code",
   "execution_count": 5,
   "id": "62d4f193-9aa3-4085-bb7e-382b100d78d1",
   "metadata": {},
   "outputs": [
    {
     "name": "stdout",
     "output_type": "stream",
     "text": [
      "a    0\n",
      "b    1\n",
      "c    3\n",
      "dtype: int64\n"
     ]
    }
   ],
   "source": [
    "import numpy as np\n",
    "import pandas as pd\n",
    "a={'a':0,'b':1,'c':3}\n",
    "b=pd.Series(a)\n",
    "print(b)"
   ]
  },
  {
   "cell_type": "code",
   "execution_count": 7,
   "id": "bb9944f5-c095-44b1-8055-19fa84da6633",
   "metadata": {},
   "outputs": [
    {
     "name": "stdout",
     "output_type": "stream",
     "text": [
      "0    4\n",
      "1    4\n",
      "2    4\n",
      "3    4\n",
      "dtype: int64\n"
     ]
    }
   ],
   "source": [
    "import numpy as np\n",
    "import pandas as pd\n",
    "scalar=pd.Series(4,index=[0,1,2,3])\n",
    "print(scalar)"
   ]
  },
  {
   "cell_type": "code",
   "execution_count": 15,
   "id": "ae070b5f-1e25-4cdc-ad74-f6df6477b780",
   "metadata": {},
   "outputs": [
    {
     "name": "stdout",
     "output_type": "stream",
     "text": [
      "\n",
      "The series:\n",
      " 0    l\n",
      "1    o\n",
      "2    h\n",
      "3    i\n",
      "4    t\n",
      "5    h\n",
      "dtype: object\n",
      "\n",
      "INDEX:\n",
      " RangeIndex(start=0, stop=6, step=1)\n",
      "\n",
      "VALUES:\n",
      " ['l' 'o' 'h' 'i' 't' 'h']\n",
      "\n",
      "SHAPE:\n",
      " (6,)\n",
      "\n",
      "DIMENSIONS:\n",
      " 1\n"
     ]
    }
   ],
   "source": [
    "import pandas as pd\n",
    "import numpy as np\n",
    "a=np.array(['l','o','h','i','t','h'])\n",
    "b=pd.Series(a)\n",
    "print(\"\\nThe series:\\n\",b)\n",
    "print(\"\\nINDEX:\\n\",b.index)\n",
    "print(\"\\nVALUES:\\n\",b.values)\n",
    "print(\"\\nSHAPE:\\n\",b.shape)\n",
    "print(\"\\nDIMENSIONS:\\n\",b.ndim)"
   ]
  },
  {
   "cell_type": "code",
   "execution_count": null,
   "id": "b1c20498-9d54-41ad-a4dd-e5cebd180422",
   "metadata": {},
   "outputs": [],
   "source": []
  }
 ],
 "metadata": {
  "kernelspec": {
   "display_name": "Python [conda env:base] *",
   "language": "python",
   "name": "conda-base-py"
  },
  "language_info": {
   "codemirror_mode": {
    "name": "ipython",
    "version": 3
   },
   "file_extension": ".py",
   "mimetype": "text/x-python",
   "name": "python",
   "nbconvert_exporter": "python",
   "pygments_lexer": "ipython3",
   "version": "3.12.7"
  }
 },
 "nbformat": 4,
 "nbformat_minor": 5
}
