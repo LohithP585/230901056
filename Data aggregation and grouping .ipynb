{
 "cells": [
  {
   "cell_type": "code",
   "execution_count": 3,
   "id": "e1f496a2",
   "metadata": {},
   "outputs": [
    {
     "name": "stdout",
     "output_type": "stream",
     "text": [
      "\n",
      " Original Dataframe: \n",
      "          A      B  C  D\n",
      "0      Abi    one  5  5\n",
      "1     Babu    two  4  0\n",
      "2  Charles  three  6  2\n",
      "3   Darwin    one  3  0\n",
      "4      Abi    two  2  0\n",
      "5  Charles  three  0  6\n",
      "6   Darwin    one  6  4\n"
     ]
    }
   ],
   "source": [
    "import pandas as pd\n",
    "import numpy as np\n",
    "df = pd.DataFrame({\"A\":[\"Abi\",\"Babu\",\"Charles\",\"Darwin\",\"Abi\",\"Charles\",\"Darwin\"],\n",
    "                   \"B\":[\"one\",\"two\",\"three\",\"one\",\"two\",\"three\",\"one\"],\n",
    "                   \"C\":np.random.randint(7,size=7),\n",
    "                   \"D\":np.random.randint(7,size=7)})\n",
    "print(\"\\n Original Dataframe: \\n\",df)"
   ]
  },
  {
   "cell_type": "code",
   "execution_count": 8,
   "id": "927ca670",
   "metadata": {},
   "outputs": [
    {
     "name": "stdout",
     "output_type": "stream",
     "text": [
      "\n",
      " Original Dataframe \n",
      "          A      B  C  D\n",
      "0      Abi    one  5  5\n",
      "1     Babu    two  4  0\n",
      "2  Charles  three  6  2\n",
      "3   Darwin    one  3  0\n",
      "4      Abi    two  2  0\n",
      "5  Charles  three  0  6\n",
      "6   Darwin    one  6  4\n",
      "\n",
      " Grouped Dataframe \n",
      "          A      B  C\n",
      "0      Abi    one  5\n",
      "1      Abi    two  2\n",
      "2     Babu    two  4\n",
      "3  Charles  three  6\n",
      "4   Darwin    one  9\n"
     ]
    }
   ],
   "source": [
    "#Grouping with one column sum\n",
    "df1 = df.groupby([\"A\",\"B\"],as_index = False)[\"C\"].sum()\n",
    "print(\"\\n Original Dataframe \\n\",df)\n",
    "print(\"\\n Grouped Dataframe \\n\",df1)"
   ]
  },
  {
   "cell_type": "code",
   "execution_count": 11,
   "id": "38c54e44",
   "metadata": {},
   "outputs": [
    {
     "name": "stdout",
     "output_type": "stream",
     "text": [
      "\n",
      " Grouped dataframe1 \n",
      "          A      B  C\n",
      "0      Abi    one  5\n",
      "1      Abi    two  2\n",
      "2     Babu    two  4\n",
      "3  Charles  three  6\n",
      "4   Darwin    one  9\n",
      "\n",
      " Grouped dataframe2 \n",
      "          A      B  C  D\n",
      "0      Abi    one  5  5\n",
      "1      Abi    two  2  0\n",
      "2     Babu    two  4  0\n",
      "3  Charles  three  6  8\n",
      "4   Darwin    one  9  4\n"
     ]
    }
   ],
   "source": [
    "df2 = df.groupby([\"A\",\"B\"],as_index = False)[\"C\"].sum()\n",
    "df3 = df.groupby([\"A\",\"B\"],as_index = False)[[\"C\",\"D\"]].sum()\n",
    "print(\"\\n Grouped dataframe1 \\n\",df2)\n",
    "print(\"\\n Grouped dataframe2 \\n\",df3)"
   ]
  },
  {
   "cell_type": "code",
   "execution_count": 12,
   "id": "93195cd4",
   "metadata": {},
   "outputs": [
    {
     "name": "stdout",
     "output_type": "stream",
     "text": [
      "  Category  Sales  Profit\n",
      "0        A    100      10\n",
      "1        B    200      15\n",
      "2        C    150      20\n",
      "3        A    150      25\n",
      "4        B    130      30\n",
      "5        C    200      15\n",
      "         Sales        Profit      \n",
      "           sum   mean    sum  mean\n",
      "Category                          \n",
      "A          250  125.0     35  17.5\n",
      "B          330  165.0     45  22.5\n",
      "C          350  175.0     35  17.5\n"
     ]
    }
   ],
   "source": [
    "import pandas as pd\n",
    "df = pd.DataFrame({\"Category\":[\"A\",\"B\",\"C\",\"A\",\"B\",\"C\"],\n",
    "                  \"Sales\":[100,200,150,150,130,200],\n",
    "                  \"Profit\":[10,15,20,25,30,15]})\n",
    "print(df)\n",
    "df1 = df.groupby(\"Category\").agg({\"Sales\":[\"sum\",\"mean\"],\"Profit\":[\"sum\",\"mean\"]})\n",
    "print(df1)"
   ]
  },
  {
   "cell_type": "code",
   "execution_count": 22,
   "id": "244a8a99",
   "metadata": {},
   "outputs": [
    {
     "name": "stdout",
     "output_type": "stream",
     "text": [
      "Original DataFrame:\n",
      "       CAT  Marks  Attendance\n",
      "0      Abi     90          80\n",
      "1      Bob     20          90\n",
      "2  Charles     10          70\n",
      "3      Abi     50          75\n",
      "4      Bob     30          80\n",
      "5  Charles     20          75\n",
      "\n",
      "Aggregated Min and Max DataFrame:\n",
      "        Marks     Attendance    \n",
      "          min max        min max\n",
      "CAT                             \n",
      "Abi        50  90         75  80\n",
      "Bob        20  30         80  90\n",
      "Charles    10  20         70  75\n",
      "\n",
      "Aggregated Total DataFrame:\n",
      "         Marks  Attendance\n",
      "CAT                       \n",
      "Abi        140         155\n",
      "Bob         50         170\n",
      "Charles     30         145\n",
      "\n",
      "Aggregated Total DataFrame with Percentage:\n",
      "         Marks  Attendance  Percentage\n",
      "CAT                                   \n",
      "Abi        140         155        70.0\n",
      "Bob         50         170        25.0\n",
      "Charles     30         145        15.0\n"
     ]
    }
   ],
   "source": [
    "import pandas as pd\n",
    "\n",
    "\n",
    "df = pd.DataFrame({\"CAT\":[\"Abi\",\"Bob\",\"Charles\",\"Abi\",\"Bob\",\"Charles\"],\n",
    "                  \"Marks\":[90,20,10,50,30,20],\n",
    "                  \"Attendance\":[80,90,70,75,80,75]})\n",
    "\n",
    "print(\"Original DataFrame:\")\n",
    "print(df)\n",
    "\n",
    "\n",
    "df1 = df.groupby(\"CAT\").agg({\"Marks\":[\"min\", \"max\"], \"Attendance\":[\"min\", \"max\"]})\n",
    "print(\"\\nAggregated Min and Max DataFrame:\")\n",
    "print(df1)\n",
    "\n",
    "\n",
    "df2 = df.groupby(\"CAT\").agg({\"Marks\":\"sum\", \"Attendance\":\"sum\"})\n",
    "print(\"\\nAggregated Total DataFrame:\")\n",
    "print(df2)\n",
    "\n",
    "\n",
    "\n",
    "df2[\"Percentage\"] = (df2[\"Marks\"]/200 ) * 100\n",
    "\n",
    "print(\"\\nAggregated Total DataFrame with Percentage:\")\n",
    "print(df2)\n",
    "\n",
    "\n",
    "\n"
   ]
  },
  {
   "cell_type": "code",
   "execution_count": null,
   "id": "46e2001a",
   "metadata": {},
   "outputs": [],
   "source": []
  }
 ],
 "metadata": {
  "kernelspec": {
   "display_name": "Python 3 (ipykernel)",
   "language": "python",
   "name": "python3"
  },
  "language_info": {
   "codemirror_mode": {
    "name": "ipython",
    "version": 3
   },
   "file_extension": ".py",
   "mimetype": "text/x-python",
   "name": "python",
   "nbconvert_exporter": "python",
   "pygments_lexer": "ipython3",
   "version": "3.11.5"
  }
 },
 "nbformat": 4,
 "nbformat_minor": 5
}
